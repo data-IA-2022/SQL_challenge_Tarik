{
  "cells": [
    {
      "attachments": {},
      "cell_type": "markdown",
      "metadata": {
        "id": "pJsqufvk5fOq"
      },
      "source": [
        "# Challenge SQL\n",
        "\n",
        "**Bienvenue dans le challenge SQL !** Il s'agit d'évaluer les compétences acquises pour formuler des requêtes SQL et extraire des informations pertinentes.\n",
        "\n",
        "Vous avez une série de X questions et vous devez proposer à chaque fois une instruction SQL.\n",
        "\n",
        "La base de données **MySQL** est disponible ici [w3 schools](https://www.w3schools.com/mysql/trymysql.asp?filename=trysql_editor) :\n",
        "- la base comporte 8 tables,\n",
        "- le site vous propose un éditeur MySQL intégré.  \n",
        "\n",
        "  \n",
        "  \n",
        "**Consignes :**\n",
        "- Faites une copie de ce notebook et modifiez-le librement.\n",
        "- Formulez les requêtes dans l'éditeur MySQL de W3 Schools et collez votre instruction ici dans le notebook.\n",
        "- En fin de challenge, partagez votre travail sur Simplonline (veuillez vous assurer que les accès à votre document sont autorisés à des tiers).\n",
        "\n"
      ]
    },
    {
      "attachments": {},
      "cell_type": "markdown",
      "metadata": {
        "id": "5_sZUKduD986"
      },
      "source": [
        "#1.Compréhension de la base de données et des tables"
      ]
    },
    {
      "attachments": {},
      "cell_type": "markdown",
      "metadata": {
        "id": "mFeX5N7jHPxf"
      },
      "source": [
        "## Question 1\n",
        "Compléter ce tableau concernant les clés primaires et étrangères des tables de la base de données."
      ]
    },
    {
      "attachments": {},
      "cell_type": "markdown",
      "metadata": {
        "id": "3zGwKWqxBQn-"
      },
      "source": [
        "| Table        | Clé primaire  | Clé(s) étrangère(s) |\n",
        "| ------------ | ------------- | ------------- |\n",
        "| Customers    | CustomerID    | None         |\n",
        "| Categories   | CategoryID   | None         |\n",
        "| Employees    | EmployeeID    | None        |\n",
        "| OrderDetails | OrderDetailID | OrderID, ProductID |\n",
        "| Orders       | OrderID      | CustomerID, EmployeeID |\n",
        "| Products     | ProductID    | SupplierID,\tCategoryID |\n",
        "| Shippers     | ShipperID     | None         |\n",
        "| Suppliers    | SupplierID    | None         |"
      ]
    },
    {
      "attachments": {},
      "cell_type": "markdown",
      "metadata": {
        "id": "z_PDWr_xEHii"
      },
      "source": [
        "#2.Requêtes simples"
      ]
    },
    {
      "attachments": {},
      "cell_type": "markdown",
      "metadata": {
        "id": "1maW0PjIIXeJ"
      },
      "source": [
        "## Question 2\n",
        "Sélectionner les colonnes `ProductName` et `Price` de la table `Products`."
      ]
    },
    {
      "cell_type": "code",
      "execution_count": null,
      "metadata": {
        "id": "j-rfOiTjIXeL"
      },
      "outputs": [],
      "source": [
        "%%sql\n",
        "-------------------------------------------------------------------\n",
        "\n",
        "# Votre instruction SQL ci-dessous :\n",
        "SELECT `ProductName`,`Price`  FROM `Products`;"
      ]
    },
    {
      "attachments": {},
      "cell_type": "markdown",
      "metadata": {
        "id": "KuSnB9y_IXv3"
      },
      "source": [
        "## Question 3\n",
        "Quels sont les différents pays représentés dans la table `Suppliers` ?"
      ]
    },
    {
      "cell_type": "code",
      "execution_count": null,
      "metadata": {
        "id": "GbkTcKtJIXv3"
      },
      "outputs": [],
      "source": [
        "%%sql\n",
        "-------------------------------------------------------------------\n",
        "\n",
        "# Votre instruction SQL ci-dessous :\n",
        "SELECT DISTINCT Country FROM Suppliers;"
      ]
    },
    {
      "attachments": {},
      "cell_type": "markdown",
      "metadata": {
        "id": "R08Gp9R3IX5l"
      },
      "source": [
        "## Question 4\n",
        "Sélectionner les fournisseurs dont le pays est la France."
      ]
    },
    {
      "cell_type": "code",
      "execution_count": null,
      "metadata": {
        "id": "_zNWN52kIX5m"
      },
      "outputs": [],
      "source": [
        "%%sql\n",
        "-------------------------------------------------------------------\n",
        "\n",
        "# Votre instruction SQL ci-dessous :\n",
        "SELECT SupplierName FROM Suppliers\n",
        "WHERE Country IN (\"france\");"
      ]
    },
    {
      "attachments": {},
      "cell_type": "markdown",
      "metadata": {
        "id": "bOyF9ciaIX8T"
      },
      "source": [
        "## Question 5\n",
        "Sélectionner les produits dont le prix de vente est supérieur ou égal à 20€."
      ]
    },
    {
      "cell_type": "code",
      "execution_count": null,
      "metadata": {
        "id": "TUHSdYqmIX8T"
      },
      "outputs": [],
      "source": [
        "%%sql\n",
        "-------------------------------------------------------------------\n",
        "\n",
        "# Votre instruction SQL ci-dessous :\n",
        "SELECT ProductName, Price FROM Products\n",
        "WHERE `price` >= 20;"
      ]
    },
    {
      "attachments": {},
      "cell_type": "markdown",
      "metadata": {
        "id": "H9CvRKHLIX_H"
      },
      "source": [
        "## Question 6\n",
        "Sélectionner les fournisseurs dont le pays n’est pas la France."
      ]
    },
    {
      "cell_type": "code",
      "execution_count": null,
      "metadata": {
        "id": "_hKduBn2IX_H"
      },
      "outputs": [],
      "source": [
        "%%sql\n",
        "-------------------------------------------------------------------\n",
        "\n",
        "# Votre instruction SQL ci-dessous :\n",
        "SELECT SupplierName FROM Suppliers\n",
        "WHERE Country NOT IN (\"france\");"
      ]
    },
    {
      "attachments": {},
      "cell_type": "markdown",
      "metadata": {
        "id": "Ex6F90UIH9RE"
      },
      "source": [
        "## Question 7\n",
        "Sélectionner les employés dont le prénom est Janet ou Michael."
      ]
    },
    {
      "cell_type": "code",
      "execution_count": null,
      "metadata": {
        "id": "n8_W5-kGH9RE"
      },
      "outputs": [],
      "source": [
        "%%sql\n",
        "-------------------------------------------------------------------\n",
        "\n",
        "# Votre instruction SQL ci-dessous :\n",
        "SELECT * FROM Employees\n",
        "WHERE FirstName IN (\"Janet\", \"Michael\");"
      ]
    },
    {
      "attachments": {},
      "cell_type": "markdown",
      "metadata": {
        "id": "_Z7QO9usLX-d"
      },
      "source": [
        "## Question 8\n",
        "Sélectionner la table des produits ordonnée par prix croissant."
      ]
    },
    {
      "cell_type": "code",
      "execution_count": null,
      "metadata": {
        "id": "1T6SP8AqLX-k"
      },
      "outputs": [],
      "source": [
        "%%sql\n",
        "-------------------------------------------------------------------\n",
        "\n",
        "# Votre instruction SQL ci-dessous :\n",
        "SELECT * FROM Products\n",
        "ORDER bY Price ASC;"
      ]
    },
    {
      "attachments": {},
      "cell_type": "markdown",
      "metadata": {
        "id": "yzNM89vrL3o_"
      },
      "source": [
        "## Question 9\n",
        "Sélectionner les 3 produits les moins chers."
      ]
    },
    {
      "cell_type": "code",
      "execution_count": null,
      "metadata": {
        "id": "5WUyw5SaL3pG"
      },
      "outputs": [],
      "source": [
        "%%sql\n",
        "-------------------------------------------------------------------\n",
        "\n",
        "# Votre instruction SQL ci-dessous :\n",
        "SELECT \tProductName FROM Products\n",
        "ORDER bY Price DESC\n",
        "LIMIT 3;"
      ]
    },
    {
      "attachments": {},
      "cell_type": "markdown",
      "metadata": {
        "id": "xpANwOlXEWUa"
      },
      "source": [
        "#3.Requêtes avec agrégation"
      ]
    },
    {
      "attachments": {},
      "cell_type": "markdown",
      "metadata": {
        "id": "SSL6-g6yIYCB"
      },
      "source": [
        "## Question 10\n",
        "Calculer le nombre de fournisseurs par pays.  \n",
        "Ordonner la table par nombre de fournisseurs décroissants."
      ]
    },
    {
      "cell_type": "code",
      "execution_count": null,
      "metadata": {
        "id": "rp4y9jwXIYCC"
      },
      "outputs": [],
      "source": [
        "%%sql\n",
        "-------------------------------------------------------------------\n",
        "\n",
        "# Votre instruction SQL ci-dessous :\n",
        "SELECT *,COUNT(SupplierID) as nb FROM Suppliers\n",
        "GROUP BY Country\n",
        "ORDER BY nb DESC;"
      ]
    },
    {
      "attachments": {},
      "cell_type": "markdown",
      "metadata": {
        "id": "ps8bhWNzIYE5"
      },
      "source": [
        "## Question 11\n",
        "Donner le prix moyen des produits en fonction de leur CategorieID.  \n",
        "Ordonner la table prix moyen décroissants.\n"
      ]
    },
    {
      "cell_type": "code",
      "execution_count": null,
      "metadata": {
        "id": "lwwOPrckIYE6"
      },
      "outputs": [],
      "source": [
        "%%sql\n",
        "-------------------------------------------------------------------\n",
        "SELECT *, AVG(Price) as mean_price FROM Products\n",
        "GROUP BY CategoryID\n",
        "ORDER BY mean_price DESC ;\n",
        "# Votre instruction SQL ci-dessous :"
      ]
    },
    {
      "attachments": {},
      "cell_type": "markdown",
      "metadata": {
        "id": "q6E2uqZiIYH_"
      },
      "source": [
        "## Question 12\n",
        "Calculer le nombre de clients par pays.  \n",
        "Ordonner la table par nombre de clients décroissants."
      ]
    },
    {
      "cell_type": "code",
      "execution_count": null,
      "metadata": {
        "id": "LqZE3WzJIYH_"
      },
      "outputs": [],
      "source": [
        "%%sql\n",
        "-------------------------------------------------------------------\n",
        "\n",
        "# Votre instruction SQL ci-dessous :\n",
        "SELECT *, COUNT(CustomerID) as nbcustomer FROM Customers\n",
        "GROUP BY Country\n",
        "ORDER BY nbcustomer DESC ;\n"
      ]
    },
    {
      "attachments": {},
      "cell_type": "markdown",
      "metadata": {
        "id": "47qnh-BuIYK_"
      },
      "source": [
        "## Question 13\n",
        "Quels sont les pays qui disposent d'au moins 3 fournisseurs différents ?"
      ]
    },
    {
      "cell_type": "code",
      "execution_count": null,
      "metadata": {
        "id": "D39LgkvCIYLA"
      },
      "outputs": [],
      "source": [
        "%%sql\n",
        "-------------------------------------------------------------------\n",
        "\n",
        "# Votre instruction SQL ci-dessous :\n",
        "SELECT *, COUNT(`SupplierID`) AS nbsupp FROM Suppliers\n",
        "GROUP BY Country\n",
        "HAVING nbsupp >= 3\n",
        "ORDER BY nbsupp DESC;\n"
      ]
    },
    {
      "attachments": {},
      "cell_type": "markdown",
      "metadata": {
        "id": "1GQLIqT6IYN0"
      },
      "source": [
        "## Question 14\n",
        "Quels sont les `ProductID` dont la quantité vendue dépasse ou égale les 1000 unités ?"
      ]
    },
    {
      "cell_type": "code",
      "execution_count": null,
      "metadata": {
        "id": "l-4vJPBDIYN1"
      },
      "outputs": [],
      "source": [
        "%%sql\n",
        "-------------------------------------------------------------------\n",
        "\n",
        "# Votre instruction SQL ci-dessous :\n",
        "SELECT ProductID, Quantity, COUNT(Quantity) AS qt\n",
        "FROM OrderDetails\n",
        "GROUP BY ProductID\n",
        "HAVING qt > 1000\n",
        "ORDER BY qt DESC;"
      ]
    },
    {
      "attachments": {},
      "cell_type": "markdown",
      "metadata": {
        "id": "3ZSXvD23Ec1r"
      },
      "source": [
        "#4.Gestion des chaînes de caractères"
      ]
    },
    {
      "attachments": {},
      "cell_type": "markdown",
      "metadata": {
        "id": "B4oQY6C1IYQT"
      },
      "source": [
        "## Question 15\n",
        "Reconstituer l'adresse postale des fournisseurs.  \n",
        "Pour chaque nom de fournisseur restituer l'adresse postale au format donné dans l'example suivant :\n",
        "\n",
        "| SupplierName        | Adresse_postale  |\n",
        "| ------------------- | ------------- |\n",
        "| Exotic Liquid       | 49 Gilbert St. - EC1 4SD - Londona - UK    |"
      ]
    },
    {
      "cell_type": "code",
      "execution_count": null,
      "metadata": {
        "id": "k1wlOpcFIYQT"
      },
      "outputs": [],
      "source": [
        "%%sql\n",
        "-------------------------------------------------------------------\n",
        "\n",
        "# Votre instruction SQL ci-dessous :\n",
        "SELECT \tSupplierName, CONCAT(Address,\" - \",PostalCode,\" - \",City,\" - \",Country)\tAS Adresse_postale  FROM Suppliers;"
      ]
    },
    {
      "attachments": {},
      "cell_type": "markdown",
      "metadata": {
        "id": "txXlUJsDIYU5"
      },
      "source": [
        "## Question 16\n",
        "Extraire les clients dont le champ `CustomerName` commence par `An`."
      ]
    },
    {
      "cell_type": "code",
      "execution_count": null,
      "metadata": {
        "id": "HoVMwnrhIYU5"
      },
      "outputs": [],
      "source": [
        "%%sql\n",
        "-------------------------------------------------------------------\n",
        "\n",
        "# Votre instruction SQL ci-dessous :\n",
        "SELECT *\n",
        "FROM Customers\n",
        "WHERE CustomerName LIKE 'An%'"
      ]
    },
    {
      "attachments": {},
      "cell_type": "markdown",
      "metadata": {
        "id": "MeA8kmTqIYXP"
      },
      "source": [
        "## Question 17\n",
        "Extraire les produits dont l'unité de conditionnement est exprimée en `box` ou en `boxes`."
      ]
    },
    {
      "cell_type": "code",
      "execution_count": null,
      "metadata": {
        "id": "1wLUDrvmIYXQ"
      },
      "outputs": [],
      "source": [
        "%%sql\n",
        "-------------------------------------------------------------------\n",
        "\n",
        "# Votre instruction SQL ci-dessous :\n",
        "SELECT DISTINCT(ProductName),Unit\n",
        "FROM Products\n",
        "WHERE Unit LIKE '%boxe%'"
      ]
    },
    {
      "attachments": {},
      "cell_type": "markdown",
      "metadata": {
        "id": "6iFXMXZKEjtG"
      },
      "source": [
        "#5.Gestion des dates"
      ]
    },
    {
      "attachments": {},
      "cell_type": "markdown",
      "metadata": {
        "id": "UN1UGtnmIYbD"
      },
      "source": [
        "## Question 18\n",
        "Extraire les années de naissance des employés.  \n",
        "Pour chaque nom et prénom des employés restituer l'année de naissance, au format donné dans l'example suivant :\n",
        "\n",
        "| LastName     | FirstName  | Annee_naissance  |\n",
        "| -------------| -----------| -----------------|\n",
        "| Fuller       | Andrew     | 1952             |"
      ]
    },
    {
      "cell_type": "code",
      "execution_count": null,
      "metadata": {
        "id": "Mg3Pe2VlIYbE"
      },
      "outputs": [],
      "source": [
        "%%sql\n",
        "-------------------------------------------------------------------\n",
        "\n",
        "# Votre instruction SQL ci-dessous :\n",
        "SELECT LastName, FirstName, YEAR(BirthDate) AS Annee_naissance\n",
        "FROM Employees;"
      ]
    },
    {
      "attachments": {},
      "cell_type": "markdown",
      "metadata": {
        "id": "VkbpY_57IYdp"
      },
      "source": [
        "## Question 19\n",
        "Restituer une table qui délivre les volumes de commandes par année.\n",
        "\n"
      ]
    },
    {
      "cell_type": "code",
      "execution_count": null,
      "metadata": {
        "id": "FgsY1FMzIYdq"
      },
      "outputs": [],
      "source": [
        "%%sql\n",
        "-------------------------------------------------------------------\n",
        "\n",
        "# Votre instruction SQL ci-dessous :\n",
        "SELECT YEAR(\tOrderDate) AS year, COUNT(Quantity) AS volume_cmd FROM Orders as o\n",
        "LEFT JOIN OrderDetails as od\n",
        "ON o.OrderID = od.OrderID\n",
        "GROUP BY year;"
      ]
    },
    {
      "attachments": {},
      "cell_type": "markdown",
      "metadata": {
        "id": "Q24FY_CWIYgi"
      },
      "source": [
        "## Question 20\n",
        "Restituer une table qui délivre les 3 mois pour lesquels les volumes de commandes sont les plus importants."
      ]
    },
    {
      "cell_type": "code",
      "execution_count": null,
      "metadata": {
        "id": "POWWBXU1IYgi"
      },
      "outputs": [],
      "source": [
        "%%sql\n",
        "-------------------------------------------------------------------\n",
        "\n",
        "# Votre instruction SQL ci-dessous :\n",
        "SELECT MONTHNAME(\tOrderDate) AS month, COUNT(Quantity) AS volume_cmd FROM Orders as o\n",
        "LEFT JOIN OrderDetails as od\n",
        "ON o.OrderID = od.OrderID\n",
        "GROUP BY month\n",
        "ORDER BY volume_cmd DESC\n",
        "LIMIT 3;"
      ]
    },
    {
      "attachments": {},
      "cell_type": "markdown",
      "metadata": {
        "id": "y9lser1nE8JJ"
      },
      "source": [
        "#6.Jointures"
      ]
    },
    {
      "attachments": {},
      "cell_type": "markdown",
      "metadata": {
        "id": "wAWBAszpIYiz"
      },
      "source": [
        "## Question 21\n",
        "Sélectionner les produits et leur catégorie (`CategoryName`) dont le prix de vente est supérieur ou égal à 20€."
      ]
    },
    {
      "cell_type": "code",
      "execution_count": null,
      "metadata": {
        "id": "GpXVlKCoIYi0"
      },
      "outputs": [],
      "source": [
        "%%sql\n",
        "-------------------------------------------------------------------\n",
        "\n",
        "# Votre instruction SQL ci-dessous :\n",
        "SELECT ProductName, CategoryName, Price FROM Products as pdt\n",
        "LEFT JOIN Categories as cat\n",
        "ON \tpdt.CategoryID = cat.CategoryID \n",
        "WHERE Price >= 20\n",
        "ORDER BY Price ASC;"
      ]
    },
    {
      "attachments": {},
      "cell_type": "markdown",
      "metadata": {
        "id": "rBUBj0i0IYlX"
      },
      "source": [
        "## Question 22\n",
        "Quel est le prix moyen par catégorie (`CategoryName`) de produit ?"
      ]
    },
    {
      "cell_type": "code",
      "execution_count": null,
      "metadata": {
        "id": "2xd1ceYpIYlY"
      },
      "outputs": [],
      "source": [
        "%%sql\n",
        "-------------------------------------------------------------------\n",
        "\n",
        "# Votre instruction SQL ci-dessous :\n",
        "SELECT ProductName, CategoryName, AVG(Price) as mean_price FROM Products as pdt\n",
        "LEFT JOIN Categories as cat\n",
        "ON \tpdt.CategoryID = cat.CategoryID\n",
        "GROUP BY ProductName, CategoryName\n",
        "ORDER BY mean_price ASC;"
      ]
    },
    {
      "attachments": {},
      "cell_type": "markdown",
      "metadata": {
        "id": "CSO8V1A6IYo2"
      },
      "source": [
        "## Question 23\n",
        "Quels sont les produits (`ProductName`) dont la quantité vendue est comprise entre 1200 et 1600 unités ?"
      ]
    },
    {
      "cell_type": "code",
      "execution_count": null,
      "metadata": {
        "id": "8Psu8I0iIYo2"
      },
      "outputs": [],
      "source": [
        "%%sql\n",
        "-------------------------------------------------------------------\n",
        "\n",
        "# Votre instruction SQL ci-dessous :\n",
        "SELECT DISTINCT p.ProductName, SUM(Quantity) as sum_qty\n",
        "FROM Products p\n",
        "JOIN OrderDetails od ON p.ProductID = od.ProductID\n",
        "GROUP BY p.ProductName\n",
        "Having sum_qty BETWEEN 1200 AND 1600;"
      ]
    },
    {
      "attachments": {},
      "cell_type": "markdown",
      "metadata": {
        "id": "VtAahpzmIYuX"
      },
      "source": [
        "## Question 24\n",
        "Quels sont les produits (`ProductName`) et leur catégorie (`CategoryName`) dont la quantité vendue est comprise entre 1200 et 1600 unités ?"
      ]
    },
    {
      "cell_type": "code",
      "execution_count": null,
      "metadata": {
        "id": "UuWZujW6IYuX"
      },
      "outputs": [],
      "source": [
        "%%sql\n",
        "-------------------------------------------------------------------\n",
        "\n",
        "# Votre instruction SQL ci-dessous :\n",
        "SELECT DISTINCT p.ProductName, c.CategoryName, SUM(Quantity) as sum_qty\n",
        "FROM Products p\n",
        "JOIN Categories c ON p.CategoryID = c.CategoryID\n",
        "JOIN OrderDetails od ON p.ProductID = od.ProductID\n",
        "JOIN Orders o ON od.OrderID = o.OrderID\n",
        "GROUP BY p.ProductName, c.CategoryName\n",
        "HAVING sum_qty BETWEEN 1200 AND 1600;"
      ]
    },
    {
      "attachments": {},
      "cell_type": "markdown",
      "metadata": {
        "id": "3QpYPj1eIYq3"
      },
      "source": [
        "## Question 25\n",
        "Quelles sont les quantités vendues réparties par employé et par catégorie de produits ?  \n",
        "\n",
        "La table doit avoir une structure comme dans l'example suivant :  \n",
        "\n",
        "| CategoryName     | Employee  | Qte_totale  |\n",
        "| -------------| -----------| -----------------|\n",
        "| Beverages       | Davolio Nancy     | 1607             |"
      ]
    },
    {
      "cell_type": "code",
      "execution_count": null,
      "metadata": {
        "id": "qq2PcrNFIYq3"
      },
      "outputs": [],
      "source": [
        "%%sql\n",
        "-------------------------------------------------------------------\n",
        "\n",
        "# Votre instruction SQL ci-dessous :\n",
        "SELECT c.CategoryName, CONCAT(e.FirstName, ' ', e.LastName) AS Employee, SUM(od.Quantity) AS Qte_totale\n",
        "FROM OrderDetails od\n",
        "JOIN Orders o ON od.OrderID = o.OrderID\n",
        "JOIN Employees e ON o.EmployeeID = e.EmployeeID\n",
        "JOIN Products p ON od.ProductID = p.ProductID\n",
        "JOIN Categories c ON p.CategoryID = c.CategoryID\n",
        "GROUP BY c.CategoryName, Employee;"
      ]
    },
    {
      "attachments": {},
      "cell_type": "markdown",
      "metadata": {
        "id": "sKnOn25AFFdt"
      },
      "source": [
        "#7.Requêtes avancées\n",
        "Dans cette section vous serez amené à utiliser les requêtes imbriquées."
      ]
    },
    {
      "attachments": {},
      "cell_type": "markdown",
      "metadata": {
        "id": "tjW9zWUiIY0H"
      },
      "source": [
        "## Question 26\n",
        "Quel est le client (`CustomerName`et `ContactName`) qui a établi la dernière commande ?  \n",
        "*Note : La valeur de `OrderID` vous donne l'ordre chronologique des commandes.*"
      ]
    },
    {
      "cell_type": "code",
      "execution_count": null,
      "metadata": {
        "id": "PEz7BRhqIY0H"
      },
      "outputs": [],
      "source": [
        "%%sql\n",
        "-------------------------------------------------------------------\n",
        "\n",
        "# Votre instruction SQL ci-dessous :\n",
        "SELECT c.CustomerName, c.ContactName\n",
        "FROM Customers c\n",
        "JOIN Orders o ON c.CustomerID = o.CustomerID\n",
        "WHERE o.OrderID = (SELECT MAX(OrderID) FROM Orders);"
      ]
    },
    {
      "attachments": {},
      "cell_type": "markdown",
      "metadata": {
        "id": "lLZXnzPBIY3E"
      },
      "source": [
        "## Question 27\n",
        "Quels sont le client (`CustomerName`et `ContactName`) et l'employé concernés (`FirstName`et `LastName`) par la dernière commande ?  \n",
        "La table doit avoir une structure comme dans l'example suivant :  \n",
        "\n",
        "| OrderID\t| OrderDate\t| CustomerName | \tContactName\t| FirstName\t| LastName|\n",
        "| --| --| --| --| --| --|\n",
        "| 11077\t| 1998-05-06\t| Rattlesnake Canyon Grocery\t| Paula Wilson\t| Nancy\t| Davolio|"
      ]
    },
    {
      "cell_type": "code",
      "execution_count": null,
      "metadata": {
        "id": "uPCQjqzfIY3F"
      },
      "outputs": [],
      "source": [
        "%%sql\n",
        "-------------------------------------------------------------------\n",
        "\n",
        "# Votre instruction SQL ci-dessous :\n",
        "SELECT o.OrderID, o.OrderDate, c.CustomerName, c.ContactName, e.FirstName, e.LastName\n",
        "FROM Orders o\n",
        "JOIN Customers c ON o.CustomerID = c.CustomerID\n",
        "JOIN Employees e ON o.EmployeeID = e.EmployeeID\n",
        "WHERE o.OrderID = (SELECT MAX(OrderID) FROM Orders);"
      ]
    },
    {
      "attachments": {},
      "cell_type": "markdown",
      "metadata": {
        "id": "e1QSBlTcIY6D"
      },
      "source": [
        "## Question 28\n",
        "Calculer le nombre de commandes livrées par livreur (`ShipperName`) ainsi le pourcentage du total de commandes.  \n",
        "Ordonner la table par ordre decroissant du nombre de commandes.  \n",
        "La table doit avoir une structure comme dans l'example suivant :  \n",
        "\n",
        "| ShipperName\t| Nb_commandes\t| Part_commandes |\n",
        "| --| --| --|\n",
        "| United Package\t| 326\t| 39.3 %\t|"
      ]
    },
    {
      "cell_type": "code",
      "execution_count": null,
      "metadata": {
        "id": "9JGgaClAIY6D"
      },
      "outputs": [],
      "source": [
        "%%sql\n",
        "-------------------------------------------------------------------\n",
        "\n",
        "# Votre instruction SQL ci-dessous :\n",
        "SELECT s.ShipperName, COUNT(o.OrderID) as Nb_commandes, \n",
        "CONCAT(ROUND(COUNT(o.OrderID) * 100.0 / (SELECT COUNT(*) FROM Orders), 1), ' %') as Part_commandes\n",
        "FROM Shippers s\n",
        "JOIN Orders o ON s.ShipperID = o.ShipperID\n",
        "GROUP BY s.ShipperName\n",
        "ORDER BY Nb_commandes DESC;"
      ]
    },
    {
      "attachments": {},
      "cell_type": "markdown",
      "metadata": {
        "id": "qekoYiYkIZAs"
      },
      "source": [
        "## Question 29\n",
        "Calculer d'articles commandés par fournisseur (`SupplierName`) ainsi le pourcentage du total de commandes.  \n",
        "Ordonner la table par ordre decroissant du nombre de commandes.  \n",
        "La table doit avoir une structure comme dans l'example suivant :  \n",
        "\n",
        "| SupplierName\t| Nb_commandes\t| Part_commandes |\n",
        "| --| --| --|\n",
        "| Plutzer Lebensmittelgroßmärkte AG\t| 179\t| 8.3 %\t|"
      ]
    },
    {
      "cell_type": "code",
      "execution_count": null,
      "metadata": {
        "id": "AW78JD7AIZAs"
      },
      "outputs": [],
      "source": [
        "%%sql\n",
        "-------------------------------------------------------------------\n",
        "\n",
        "# Votre instruction SQL ci-dessous :\n",
        "SELECT s.SupplierName, COUNT(od.OrderID) as Nb_commandes,\n",
        "    CONCAT(ROUND(COUNT(od.OrderID) * 100.0 / (SELECT COUNT(*) FROM OrderDetails), 1), ' %') as Part_commandes\n",
        "FROM Suppliers s\n",
        "JOIN Products p ON s.SupplierID = p.SupplierID\n",
        "JOIN OrderDetails od ON p.ProductID = od.ProductID\n",
        "GROUP BY s.SupplierName\n",
        "ORDER BY Nb_commandes DESC;"
      ]
    },
    {
      "attachments": {},
      "cell_type": "markdown",
      "metadata": {
        "id": "5GehVEmVIY9R"
      },
      "source": [
        "## Question 30\n",
        "A partir de la table `OrderDetails`, créer une colonne `QuantityText` qui prendra les valeurs suivantes :\n",
        "- `\"The quantity is under 30\"` si `Quantity` < 30\n",
        "- `\"The quantity is 30\"` si `Quantity` = 30\n",
        "- `\"The quantity is greater than 30\"` si `Quantity` > 30\n",
        "\n",
        "Ensuite comptabilliser le nombre de fois où les 3 catégories apparraisent et ordonner la table par ordre decroissant de ce comptage.  \n",
        "La table doit avoir une structure comme dans l'example suivant :  \n",
        "\n",
        "| QuantityText\t| Nb_commandes\t|\n",
        "| --| --|\n",
        "| The quantity is under 30\t| 1464\t|"
      ]
    },
    {
      "cell_type": "code",
      "execution_count": null,
      "metadata": {
        "id": "EqXZymqRIY9S"
      },
      "outputs": [],
      "source": [
        "%%sql\n",
        "-------------------------------------------------------------------\n",
        "\n",
        "# Votre instruction SQL ci-dessous :\n",
        "SELECT QuantityText, COUNT(*) as Nb_commandes\n",
        "FROM (\n",
        "    SELECT CASE\n",
        "        WHEN Quantity < 30 THEN 'The quantity is under 30'\n",
        "        WHEN Quantity = 30 THEN 'The quantity is 30'\n",
        "        ELSE 'The quantity is greater than 30'\n",
        "    END AS QuantityText\n",
        "    FROM OrderDetails\n",
        ") AS QuantityCategories\n",
        "GROUP BY QuantityText\n",
        "ORDER BY Nb_commandes DESC;"
      ]
    },
    {
      "attachments": {},
      "cell_type": "markdown",
      "metadata": {
        "id": "2OYoCHyjUrNH"
      },
      "source": [
        "#8.Fin du challenge\n",
        "Bravo ! Vous êtes arrivés sans peine jusqu'à la fin de ce challenge SQL ✌ !"
      ]
    }
  ],
  "metadata": {
    "colab": {
      "provenance": [],
      "toc_visible": true
    },
    "kernelspec": {
      "display_name": "Python 3",
      "name": "python3"
    }
  },
  "nbformat": 4,
  "nbformat_minor": 0
}
